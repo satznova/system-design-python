{
 "cells": [
  {
   "cell_type": "markdown",
   "id": "670c9e4e-7e9c-49af-8d87-71f5efe72ce2",
   "metadata": {},
   "source": [
    "## Concurrent Programming Vs Parallelism\n",
    "\n",
    "### Concurrent Programming\n",
    "- Multiple tasks at once - not necessarily at the same time\n",
    "- Tasks can be inteleaved\n",
    "- Tasks can run and complete in overlapping time periods - not necessarilt the tasks can run at same time\n",
    "- Improves Responsiveness, efficiency -> especially for I/O bound tasks, Networking tasks\n",
    "- In Python below are the Concurrent mechanisms:\n",
    "> - Threading (threading) <br>\n",
    "> - Asynchronous I/O (using asyncio library)\n",
    "\n",
    "\n",
    "\n",
    "### Prallelism\n",
    "- Executes multiple tasks at the same time leveraging multiple CPU cores\n",
    "- In Python below are the Parallelism mechanisms:\n",
    "> - MultiProcessing"
   ]
  },
  {
   "cell_type": "raw",
   "id": "a5c8fc1a-22f5-41b8-aff9-36f2eac26fdc",
   "metadata": {},
   "source": [
    "if io_bound:\n",
    "    if io_very_slow:\n",
    "        print(\"Use Asyncio\")\n",
    "    else:\n",
    "        print(\"Use Threads\")\n",
    "else: # CPU Bound\n",
    "    print(\"Multi Processing\")"
   ]
  },
  {
   "cell_type": "raw",
   "id": "0fd0fd48-f1ad-4e39-9f8f-bed8cd5e918a",
   "metadata": {},
   "source": [
    "CPU Bound => Multi Processing\n",
    "I/O Bound, Fast I/O, Limited Number of Connections => Multi Threading\n",
    "I/O Bound, Slow I/O, Many connections => Asyncio\n",
    "\n",
    "http://masnun.rocks/2016/10/06/async-python-the-different-forms-of-concurrency/"
   ]
  },
  {
   "cell_type": "markdown",
   "id": "411cc494-dd8a-4bd4-8a81-312235f8943e",
   "metadata": {},
   "source": [
    "### Concurrent Programming: Threading"
   ]
  },
  {
   "cell_type": "code",
   "execution_count": null,
   "id": "2571b667-8722-4596-ba8a-04b9a3e651fc",
   "metadata": {},
   "outputs": [],
   "source": []
  },
  {
   "cell_type": "markdown",
   "id": "3cb4444f-e544-4eea-9d1a-60d41d55f913",
   "metadata": {},
   "source": [
    "### Concurrent Programming: Asynchronous IO (asyncio)"
   ]
  },
  {
   "cell_type": "code",
   "execution_count": 3,
   "id": "4325626e-b084-4d8f-90c5-b2f799f1f690",
   "metadata": {},
   "outputs": [
    {
     "ename": "RuntimeError",
     "evalue": "asyncio.run() cannot be called from a running event loop",
     "output_type": "error",
     "traceback": [
      "\u001b[31m---------------------------------------------------------------------------\u001b[39m",
      "\u001b[31mRuntimeError\u001b[39m                              Traceback (most recent call last)",
      "\u001b[36mCell\u001b[39m\u001b[36m \u001b[39m\u001b[32mIn[3]\u001b[39m\u001b[32m, line 12\u001b[39m\n\u001b[32m      9\u001b[39m     \u001b[38;5;28;01mawait\u001b[39;00m asyncio.gather(async_task(\u001b[33m\"\u001b[39m\u001b[33mA\u001b[39m\u001b[33m\"\u001b[39m), async_task(\u001b[33m\"\u001b[39m\u001b[33mB\u001b[39m\u001b[33m\"\u001b[39m))\n\u001b[32m     11\u001b[39m \u001b[38;5;28;01mif\u001b[39;00m \u001b[34m__name__\u001b[39m == \u001b[33m\"\u001b[39m\u001b[33m__main__\u001b[39m\u001b[33m\"\u001b[39m:\n\u001b[32m---> \u001b[39m\u001b[32m12\u001b[39m     \u001b[43masyncio\u001b[49m\u001b[43m.\u001b[49m\u001b[43mrun\u001b[49m\u001b[43m(\u001b[49m\u001b[43mmain\u001b[49m\u001b[43m(\u001b[49m\u001b[43m)\u001b[49m\u001b[43m)\u001b[49m\n",
      "\u001b[36mFile \u001b[39m\u001b[32m/opt/homebrew/Cellar/python@3.13/3.13.7/Frameworks/Python.framework/Versions/3.13/lib/python3.13/asyncio/runners.py:191\u001b[39m, in \u001b[36mrun\u001b[39m\u001b[34m(main, debug, loop_factory)\u001b[39m\n\u001b[32m    161\u001b[39m \u001b[38;5;250m\u001b[39m\u001b[33;03m\"\"\"Execute the coroutine and return the result.\u001b[39;00m\n\u001b[32m    162\u001b[39m \n\u001b[32m    163\u001b[39m \u001b[33;03mThis function runs the passed coroutine, taking care of\u001b[39;00m\n\u001b[32m   (...)\u001b[39m\u001b[32m    187\u001b[39m \u001b[33;03m    asyncio.run(main())\u001b[39;00m\n\u001b[32m    188\u001b[39m \u001b[33;03m\"\"\"\u001b[39;00m\n\u001b[32m    189\u001b[39m \u001b[38;5;28;01mif\u001b[39;00m events._get_running_loop() \u001b[38;5;129;01mis\u001b[39;00m \u001b[38;5;129;01mnot\u001b[39;00m \u001b[38;5;28;01mNone\u001b[39;00m:\n\u001b[32m    190\u001b[39m     \u001b[38;5;66;03m# fail fast with short traceback\u001b[39;00m\n\u001b[32m--> \u001b[39m\u001b[32m191\u001b[39m     \u001b[38;5;28;01mraise\u001b[39;00m \u001b[38;5;167;01mRuntimeError\u001b[39;00m(\n\u001b[32m    192\u001b[39m         \u001b[33m\"\u001b[39m\u001b[33masyncio.run() cannot be called from a running event loop\u001b[39m\u001b[33m\"\u001b[39m)\n\u001b[32m    194\u001b[39m \u001b[38;5;28;01mwith\u001b[39;00m Runner(debug=debug, loop_factory=loop_factory) \u001b[38;5;28;01mas\u001b[39;00m runner:\n\u001b[32m    195\u001b[39m     \u001b[38;5;28;01mreturn\u001b[39;00m runner.run(main)\n",
      "\u001b[31mRuntimeError\u001b[39m: asyncio.run() cannot be called from a running event loop"
     ]
    }
   ],
   "source": [
    "import asyncio\n",
    "\n",
    "async def async_task(name):\n",
    "    print(f\"Starting async task {name}\")\n",
    "    await asyncio.sleep(1) # Simulate async I/O\n",
    "    print(f\"Finishing async task {name}\")\n",
    "\n",
    "async def main():\n",
    "    await asyncio.gather(async_task(\"A\"), async_task(\"B\"))\n",
    "\n",
    "if __name__ == \"__main__\":\n",
    "    asyncio.run(main())"
   ]
  },
  {
   "cell_type": "code",
   "execution_count": null,
   "id": "c05c02a0-934f-42d2-8ffa-897bdb02ad93",
   "metadata": {},
   "outputs": [],
   "source": []
  }
 ],
 "metadata": {
  "kernelspec": {
   "display_name": "Python 3 (ipykernel)",
   "language": "python",
   "name": "python3"
  },
  "language_info": {
   "codemirror_mode": {
    "name": "ipython",
    "version": 3
   },
   "file_extension": ".py",
   "mimetype": "text/x-python",
   "name": "python",
   "nbconvert_exporter": "python",
   "pygments_lexer": "ipython3",
   "version": "3.13.7"
  }
 },
 "nbformat": 4,
 "nbformat_minor": 5
}
